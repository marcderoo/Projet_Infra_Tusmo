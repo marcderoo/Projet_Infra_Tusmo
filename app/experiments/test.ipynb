{
 "cells": [
  {
   "cell_type": "code",
   "execution_count": 5,
   "metadata": {},
   "outputs": [],
   "source": [
    "import os"
   ]
  },
  {
   "cell_type": "code",
   "execution_count": null,
   "metadata": {},
   "outputs": [],
   "source": [
    "def get_path(full_path: str) -> str:\n",
    "    \"\"\"\n",
    "    Get the full path of a file in the project.\n",
    "    \"\"\"\n",
    "    root = os.path.dirname(os.path.abspath(__file__))\n",
    "\n",
    "    # Go up until we find the LICENSE file\n",
    "    while not os.path.exists(os.path.join(root, \"LICENSE\")):\n",
    "        new_root = os.path.dirname(root)\n",
    "        if new_root == root:  # Évite une boucle infinie\n",
    "            raise FileNotFoundError(\"LICENSE file not found\")\n",
    "        root = new_root\n",
    "    if \"\\\\\" in root :\n",
    "        full_path = full_path.replace(\"/\", \"\\\\\")\n",
    "    else:\n",
    "        full_path = full_path.replace(\"\\\\\", \"/\")\n",
    "    print(str(os.path.join(root, full_path)))\n",
    "    return str(os.path.join(root, full_path))"
   ]
  },
  {
   "cell_type": "code",
   "execution_count": 8,
   "metadata": {},
   "outputs": [
    {
     "ename": "NameError",
     "evalue": "name '__file__' is not defined",
     "output_type": "error",
     "traceback": [
      "\u001b[31m---------------------------------------------------------------------------\u001b[39m",
      "\u001b[31mNameError\u001b[39m                                 Traceback (most recent call last)",
      "\u001b[36mCell\u001b[39m\u001b[36m \u001b[39m\u001b[32mIn[8]\u001b[39m\u001b[32m, line 1\u001b[39m\n\u001b[32m----> \u001b[39m\u001b[32m1\u001b[39m \u001b[43mget_path\u001b[49m\u001b[43m(\u001b[49m\u001b[33;43m\"\u001b[39;49m\u001b[33;43mapp/frequences_lettres.txt\u001b[39;49m\u001b[33;43m\"\u001b[39;49m\u001b[43m)\u001b[49m\n",
      "\u001b[36mCell\u001b[39m\u001b[36m \u001b[39m\u001b[32mIn[6]\u001b[39m\u001b[32m, line 5\u001b[39m, in \u001b[36mget_path\u001b[39m\u001b[34m(full_path)\u001b[39m\n\u001b[32m      1\u001b[39m \u001b[38;5;28;01mdef\u001b[39;00m\u001b[38;5;250m \u001b[39m\u001b[34mget_path\u001b[39m(full_path: \u001b[38;5;28mstr\u001b[39m) -> \u001b[38;5;28mstr\u001b[39m:\n\u001b[32m      2\u001b[39m \u001b[38;5;250m    \u001b[39m\u001b[33;03m\"\"\"\u001b[39;00m\n\u001b[32m      3\u001b[39m \u001b[33;03m    Get the full path of a file in the project.\u001b[39;00m\n\u001b[32m      4\u001b[39m \u001b[33;03m    \"\"\"\u001b[39;00m\n\u001b[32m----> \u001b[39m\u001b[32m5\u001b[39m     root = os.path.dirname(os.path.abspath(\u001b[34;43m__file__\u001b[39;49m))\n\u001b[32m      7\u001b[39m     \u001b[38;5;66;03m# Go up until we find the LICENSE file\u001b[39;00m\n\u001b[32m      8\u001b[39m     \u001b[38;5;28;01mwhile\u001b[39;00m \u001b[38;5;129;01mnot\u001b[39;00m os.path.exists(os.path.join(root, \u001b[33m\"\u001b[39m\u001b[33mLICENSE\u001b[39m\u001b[33m\"\u001b[39m)):\n",
      "\u001b[31mNameError\u001b[39m: name '__file__' is not defined"
     ]
    }
   ],
   "source": [
    "get_path(\"app/frequences_lettres.txt\")"
   ]
  },
  {
   "cell_type": "code",
   "execution_count": 4,
   "metadata": {},
   "outputs": [
    {
     "name": "stdout",
     "output_type": "stream",
     "text": [
      "['e : 0.1337\\n', 's : 0.0931\\n', 'k : 0.0898\\n', 'a : 0.0890\\n', 'i : 0.0866\\n', 'r : 0.0790\\n', 'n : 0.0677\\n', 't : 0.0626\\n', 'o : 0.0533\\n', 'l : 0.0363\\n', 'u : 0.0325\\n', 'c : 0.0307\\n', 'm : 0.0230\\n', 'd : 0.0213\\n', 'p : 0.0213\\n', 'g : 0.0144\\n', 'b : 0.0126\\n', 'f : 0.0121\\n', 'h : 0.0105\\n', 'z : 0.0099\\n', 'v : 0.0086\\n', 'q : 0.0045\\n', 'y : 0.0031\\n', 'x : 0.0022\\n', 'j : 0.0016\\n', 'k : 0.0004\\n', 'w : 0.0001\\n']\n"
     ]
    }
   ],
   "source": [
    "with open(\"c:\\\\Users\\\\courn\\\\Desktop\\\\SUMOT\\\\Projet_Infra_Tusmo\\\\app\\\\frequences_lettres.txt\", \"r\") as file:\n",
    "    print(file.readlines())"
   ]
  }
 ],
 "metadata": {
  "kernelspec": {
   "display_name": ".venv",
   "language": "python",
   "name": "python3"
  },
  "language_info": {
   "codemirror_mode": {
    "name": "ipython",
    "version": 3
   },
   "file_extension": ".py",
   "mimetype": "text/x-python",
   "name": "python",
   "nbconvert_exporter": "python",
   "pygments_lexer": "ipython3",
   "version": "3.11.9"
  }
 },
 "nbformat": 4,
 "nbformat_minor": 2
}
